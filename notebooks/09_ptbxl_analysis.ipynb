{
 "cells": [
  {
   "cell_type": "code",
   "execution_count": 1,
   "metadata": {},
   "outputs": [],
   "source": [
    "import pandas as pd\n",
    "import numpy as np\n",
    "from collections import defaultdict"
   ]
  },
  {
   "cell_type": "code",
   "execution_count": 2,
   "metadata": {},
   "outputs": [],
   "source": [
    "df = pd.read_csv('d:/ecg/data/raw/ptbxl/ptbxl_database.csv')\n",
    "df['scp_codes'] = df['scp_codes'].apply(eval)"
   ]
  },
  {
   "cell_type": "code",
   "execution_count": 3,
   "metadata": {},
   "outputs": [],
   "source": [
    "scp_statements = pd.read_csv('d:/ecg/data/raw/ptbxl/scp_statements.csv', index_col=0)\n",
    "code_group_map = {}\n",
    "code_desc_map = {}\n",
    "for code in scp_statements.index:\n",
    "    code_group_map[code] = scp_statements.loc[code, 'diagnostic_class']\n",
    "    code_desc_map[code] = scp_statements.loc[code, 'description']"
   ]
  },
  {
   "cell_type": "code",
   "execution_count": 4,
   "metadata": {},
   "outputs": [],
   "source": [
    "group_codes = defaultdict(list)\n",
    "code_counts = defaultdict(int)\n",
    "for codes in df['scp_codes']:\n",
    "    for code in codes.keys():\n",
    "        group = code_group_map.get(code, 'Bilinmiyor')\n",
    "        group_codes[group].append(code)\n",
    "        code_counts[code] += 1"
   ]
  },
  {
   "cell_type": "code",
   "execution_count": 5,
   "metadata": {},
   "outputs": [
    {
     "data": {
      "text/html": [
       "<div>\n",
       "<style scoped>\n",
       "    .dataframe tbody tr th:only-of-type {\n",
       "        vertical-align: middle;\n",
       "    }\n",
       "\n",
       "    .dataframe tbody tr th {\n",
       "        vertical-align: top;\n",
       "    }\n",
       "\n",
       "    .dataframe thead th {\n",
       "        text-align: right;\n",
       "    }\n",
       "</style>\n",
       "<table border=\"1\" class=\"dataframe\">\n",
       "  <thead>\n",
       "    <tr style=\"text-align: right;\">\n",
       "      <th></th>\n",
       "      <th>grup</th>\n",
       "      <th>alt_dal_sayisi</th>\n",
       "      <th>toplam_ornek</th>\n",
       "    </tr>\n",
       "  </thead>\n",
       "  <tbody>\n",
       "    <tr>\n",
       "      <th>1</th>\n",
       "      <td>NaN</td>\n",
       "      <td>27</td>\n",
       "      <td>30326</td>\n",
       "    </tr>\n",
       "    <tr>\n",
       "      <th>0</th>\n",
       "      <td>NORM</td>\n",
       "      <td>1</td>\n",
       "      <td>9528</td>\n",
       "    </tr>\n",
       "    <tr>\n",
       "      <th>2</th>\n",
       "      <td>MI</td>\n",
       "      <td>14</td>\n",
       "      <td>6886</td>\n",
       "    </tr>\n",
       "    <tr>\n",
       "      <th>3</th>\n",
       "      <td>STTC</td>\n",
       "      <td>13</td>\n",
       "      <td>5788</td>\n",
       "    </tr>\n",
       "    <tr>\n",
       "      <th>5</th>\n",
       "      <td>CD</td>\n",
       "      <td>11</td>\n",
       "      <td>5772</td>\n",
       "    </tr>\n",
       "    <tr>\n",
       "      <th>4</th>\n",
       "      <td>HYP</td>\n",
       "      <td>5</td>\n",
       "      <td>2819</td>\n",
       "    </tr>\n",
       "  </tbody>\n",
       "</table>\n",
       "</div>"
      ],
      "text/plain": [
       "   grup  alt_dal_sayisi  toplam_ornek\n",
       "1   NaN              27         30326\n",
       "0  NORM               1          9528\n",
       "2    MI              14          6886\n",
       "3  STTC              13          5788\n",
       "5    CD              11          5772\n",
       "4   HYP               5          2819"
      ]
     },
     "execution_count": 5,
     "metadata": {},
     "output_type": "execute_result"
    }
   ],
   "source": [
    "group_summary = {}\n",
    "for group, codes in group_codes.items():\n",
    "    unique_codes = set(codes)\n",
    "    total_samples = sum(code_counts[code] for code in unique_codes)\n",
    "    group_summary[group] = {\n",
    "        'alt_dallar': list(unique_codes),\n",
    "        'toplam_ornek': total_samples\n",
    "    }\n",
    "summary_df = pd.DataFrame([\n",
    "    {'grup': g, 'alt_dal_sayisi': len(v['alt_dallar']), 'toplam_ornek': v['toplam_ornek']}\n",
    "    for g, v in group_summary.items()\n",
    "])\n",
    "summary_df = summary_df.sort_values(by='toplam_ornek', ascending=False)\n",
    "summary_df"
   ]
  },
  {
   "cell_type": "code",
   "execution_count": 6,
   "metadata": {},
   "outputs": [
    {
     "name": "stdout",
     "output_type": "stream",
     "text": [
      "Grup: NORM\n",
      "  - NORM: normal ECG (9528 örnek)\n",
      "----------------------------------------\n",
      "Grup: nan\n",
      "  - NT_: non-specific T-wave changes (424 örnek)\n",
      "  - LVOLT: low QRS voltages in the frontal and horizontal leads (182 örnek)\n",
      "  - PRC(S): premature complex(es) (10 örnek)\n",
      "  - LPR: prolonged PR interval (340 örnek)\n",
      "  - PAC: atrial premature complex (398 örnek)\n",
      "  - STD_: non-specific ST depression (1009 örnek)\n",
      "  - HVOLT: high QRS voltage (62 örnek)\n",
      "  - TAB_: T-wave abnormality (35 örnek)\n",
      "  - AFIB: atrial fibrillation (1514 örnek)\n",
      "  - BIGU: bigeminal pattern (unknown origin, SV or Ventricular) (82 örnek)\n",
      "  - SVARR: supraventricular arrhythmia (157 örnek)\n",
      "  - SBRAD: sinus bradycardia (637 örnek)\n",
      "  - PACE: normal functioning artificial pacemaker (296 örnek)\n",
      "  - AFLT: atrial flutter (73 örnek)\n",
      "  - VCLVH: voltage criteria (QRS) for left ventricular hypertrophy (875 örnek)\n",
      "  - INVT: inverted T-waves (294 örnek)\n",
      "  - LOWT: low amplitude T-waves (438 örnek)\n",
      "  - STACH: sinus tachycardia (826 örnek)\n",
      "  - PSVT: paroxysmal supraventricular tachycardia (24 örnek)\n",
      "  - TRIGU: trigeminal pattern (unknown origin, SV or Ventricular) (20 örnek)\n",
      "  - STE_: non-specific ST elevation (28 örnek)\n",
      "  - QWAVE: Q waves present (548 örnek)\n",
      "  - SARRH: sinus arrhythmia (772 örnek)\n",
      "  - ABQRS: abnormal QRS (3327 örnek)\n",
      "  - PVC: ventricular premature complex (1146 örnek)\n",
      "  - SR: sinus rhythm (16782 örnek)\n",
      "  - SVTAC: supraventricular tachycardia (27 örnek)\n",
      "----------------------------------------\n",
      "Grup: MI\n",
      "  - INJAL: subendocardial injury in anterolateral leads (148 örnek)\n",
      "  - IMI: inferior myocardial infarction (2685 örnek)\n",
      "  - IPLMI: inferoposterolateral myocardial infarction (51 örnek)\n",
      "  - ILMI: inferolateral myocardial infarction (479 örnek)\n",
      "  - IPMI: inferoposterior myocardial infarction (33 örnek)\n",
      "  - INJIN: subendocardial injury in inferior leads (18 örnek)\n",
      "  - INJAS: subendocardial injury in anteroseptal leads (215 örnek)\n",
      "  - INJLA: subendocardial injury in lateral leads (17 örnek)\n",
      "  - PMI: posterior myocardial infarction (17 örnek)\n",
      "  - ASMI: anteroseptal myocardial infarction (2363 örnek)\n",
      "  - AMI: anterior myocardial infarction (354 örnek)\n",
      "  - ALMI: anterolateral myocardial infarction (290 örnek)\n",
      "  - INJIL: subendocardial injury in inferolateral leads (15 örnek)\n",
      "  - LMI: lateral myocardial infarction (201 örnek)\n",
      "----------------------------------------\n",
      "Grup: STTC\n",
      "  - ISCLA: ischemic in lateral leads (142 örnek)\n",
      "  - ISCIN: ischemic in inferior leads (219 örnek)\n",
      "  - ISC_: non-specific ischemic (1275 örnek)\n",
      "  - ISCIL: ischemic in inferolateral leads (179 örnek)\n",
      "  - ISCAN: ischemic in anterior leads (44 örnek)\n",
      "  - NDT: non-diagnostic T abnormalities (1829 örnek)\n",
      "  - EL: electrolytic disturbance or drug (former EDIS) (97 örnek)\n",
      "  - ISCAS: ischemic in anteroseptal leads (170 örnek)\n",
      "  - NST_: non-specific ST changes (770 örnek)\n",
      "  - ANEUR: ST-T changes compatible with ventricular aneurysm (104 örnek)\n",
      "  - ISCAL: ischemic in anterolateral leads (660 örnek)\n",
      "  - DIG: digitalis-effect (181 örnek)\n",
      "  - LNGQT: long QT-interval (118 örnek)\n",
      "----------------------------------------\n",
      "Grup: HYP\n",
      "  - LAO/LAE: left atrial overload/enlargement (427 örnek)\n",
      "  - RVH: right ventricular hypertrophy (126 örnek)\n",
      "  - RAO/RAE: right atrial overload/enlargement (99 örnek)\n",
      "  - SEHYP: septal hypertrophy (30 örnek)\n",
      "  - LVH: left ventricular hypertrophy (2137 örnek)\n",
      "----------------------------------------\n",
      "Grup: CD\n",
      "  - WPW: Wolf-Parkinson-White syndrome (80 örnek)\n",
      "  - IRBBB: incomplete right bundle branch block (1118 örnek)\n",
      "  - LPFB: left posterior fascicular block (177 örnek)\n",
      "  - ILBBB: incomplete left bundle branch block (77 örnek)\n",
      "  - 2AVB: second degree AV block (14 örnek)\n",
      "  - LAFB: left anterior fascicular block (1626 örnek)\n",
      "  - IVCD: non-specific intraventricular conduction disturbance (block) (789 örnek)\n",
      "  - CLBBB: complete left bundle branch block (536 örnek)\n",
      "  - 1AVB: first degree AV block (797 örnek)\n",
      "  - CRBBB: complete right bundle branch block (542 örnek)\n",
      "  - 3AVB: third degree AV block (16 örnek)\n",
      "----------------------------------------\n"
     ]
    }
   ],
   "source": [
    "for group, v in group_summary.items():\n",
    "    print(f'Grup: {group}')\n",
    "    for code in v['alt_dallar']:\n",
    "        desc = code_desc_map.get(code, '')\n",
    "        print(f'  - {code}: {desc} ({code_counts[code]} örnek)')\n",
    "    print('-'*40)"
   ]
  },
  {
   "cell_type": "code",
   "execution_count": 7,
   "metadata": {},
   "outputs": [
    {
     "name": "stdout",
     "output_type": "stream",
     "text": [
      "Kayıt ID: 1\n",
      "Tanı kodları:\n",
      "  - NORM (Grup: NORM): normal ECG\n",
      "  - LVOLT (Grup: nan): low QRS voltages in the frontal and horizontal leads\n",
      "  - SR (Grup: nan): sinus rhythm\n"
     ]
    }
   ],
   "source": [
    "idx = 0  # ilk kayıt\n",
    "print('Kayıt ID:', df.loc[idx, 'ecg_id'])\n",
    "print('Tanı kodları:')\n",
    "for code in df.loc[idx, 'scp_codes'].keys():\n",
    "    group = code_group_map.get(code, 'Bilinmiyor')\n",
    "    desc = code_desc_map.get(code, '')\n",
    "    print(f'  - {code} (Grup: {group}): {desc}')"
   ]
  }
 ],
 "metadata": {
  "kernelspec": {
   "display_name": "Python 3",
   "language": "python",
   "name": "python3"
  },
  "language_info": {
   "codemirror_mode": {
    "name": "ipython",
    "version": 3
   },
   "file_extension": ".py",
   "mimetype": "text/x-python",
   "name": "python",
   "nbconvert_exporter": "python",
   "pygments_lexer": "ipython3",
   "version": "3.13.3"
  }
 },
 "nbformat": 4,
 "nbformat_minor": 2
}
