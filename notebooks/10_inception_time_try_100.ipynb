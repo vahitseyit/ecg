{
 "cells": [
  {
   "cell_type": "code",
   "execution_count": 12,
   "metadata": {},
   "outputs": [],
   "source": [
    "import numpy as np\n",
    "import pandas as pd\n",
    "import matplotlib.pyplot as plt\n",
    "from sklearn.model_selection import train_test_split\n",
    "from sklearn.preprocessing import MultiLabelBinarizer\n",
    "from sklearn.metrics import classification_report\n",
    "import torch\n",
    "from torch import nn\n",
    "from torch.utils.data import DataLoader, TensorDataset\n",
    "import wfdb\n",
    "import ast\n",
    "import os"
   ]
  },
  {
   "cell_type": "code",
   "execution_count": 13,
   "metadata": {},
   "outputs": [
    {
     "name": "stdout",
     "output_type": "stream",
     "text": [
      "Dosya bulunamadı: records500/00000/00137_hr\n",
      "Dosya bulunamadı: records500/00000/00139_hr\n",
      "Dosya bulunamadı: records500/00000/00140_hr\n",
      "Dosya bulunamadı: records500/00000/00141_hr\n",
      "Dosya bulunamadı: records500/00000/00142_hr\n",
      "Dosya bulunamadı: records500/00000/00143_hr\n",
      "Dosya bulunamadı: records500/00000/00145_hr\n",
      "Dosya bulunamadı: records500/00000/00456_hr\n",
      "Dosya bulunamadı: records500/00000/00458_hr\n",
      "Dosya bulunamadı: records500/00000/00459_hr\n",
      "Dosya bulunamadı: records500/00000/00461_hr\n",
      "Dosya bulunamadı: records500/00000/00462_hr\n",
      "Toplam 12 kayıt atlandı.\n"
     ]
    }
   ],
   "source": [
    "# CSV dosyasını yükle\n",
    "df = pd.read_csv('d:/ecg/data/raw/ptbxl/ptbxl_database.csv')\n",
    "\n",
    "# İlk 1000 kaydı al\n",
    "df_1000 = df.iloc[:1000]\n",
    "\n",
    "def load_signal(record_name, data_path='d:/ecg/data/raw/ptbxl/'):\n",
    "    full_path = os.path.join(data_path, record_name)\n",
    "    record = wfdb.rdrecord(full_path)\n",
    "    return record.p_signal\n",
    "\n",
    "signals = []\n",
    "labels = []\n",
    "missing = 0\n",
    "for idx, row in df_1000.iterrows():\n",
    "    try:\n",
    "        sig = load_signal(row['filename_hr'])\n",
    "        signals.append(sig)\n",
    "        labels.append(list(ast.literal_eval(row['scp_codes']).keys()))\n",
    "    except FileNotFoundError:\n",
    "        missing += 1\n",
    "        print(f\"Dosya bulunamadı: {row['filename_hr']}\")\n",
    "print(f\"Toplam {missing} kayıt atlandı.\")\n",
    "signals = np.array(signals)"
   ]
  },
  {
   "cell_type": "code",
   "execution_count": 14,
   "metadata": {},
   "outputs": [
    {
     "name": "stdout",
     "output_type": "stream",
     "text": [
      "Tüm hastalık türleri: ['1AVB' '3AVB' 'ABQRS' 'AFIB' 'AFLT' 'ALMI' 'AMI' 'ANEUR' 'ASMI' 'BIGU'\n",
      " 'CLBBB' 'CRBBB' 'DIG' 'EL' 'HVOLT' 'ILBBB' 'ILMI' 'IMI' 'INJAL' 'INJAS'\n",
      " 'INJIL' 'INJLA' 'INVT' 'IPLMI' 'IPMI' 'IRBBB' 'ISCAL' 'ISCAN' 'ISCAS'\n",
      " 'ISCIL' 'ISCIN' 'ISCLA' 'ISC_' 'IVCD' 'LAFB' 'LAO/LAE' 'LMI' 'LNGQT'\n",
      " 'LOWT' 'LPFB' 'LPR' 'LVH' 'LVOLT' 'NDT' 'NORM' 'NST_' 'NT_' 'PAC' 'PACE'\n",
      " 'PVC' 'QWAVE' 'RAO/RAE' 'RVH' 'SARRH' 'SBRAD' 'SEHYP' 'SR' 'STACH' 'STD_'\n",
      " 'SVTAC' 'TAB_' 'TRIGU' 'VCLVH']\n",
      "signals shape: (988, 5000, 12)\n",
      "y shape: (988, 63)\n"
     ]
    }
   ],
   "source": [
    "mlb = MultiLabelBinarizer()\n",
    "y = mlb.fit_transform(labels)\n",
    "print(\"Tüm hastalık türleri:\", mlb.classes_)\n",
    "print(\"signals shape:\", signals.shape)\n",
    "print(\"y shape:\", y.shape)"
   ]
  },
  {
   "cell_type": "code",
   "execution_count": 15,
   "metadata": {},
   "outputs": [
    {
     "name": "stdout",
     "output_type": "stream",
     "text": [
      "X_train shape: (790, 5000, 12)\n",
      "y_train shape: (790, 63)\n"
     ]
    }
   ],
   "source": [
    "X_train, X_test, y_train, y_test = train_test_split(\n",
    "    signals, y, test_size=0.2, random_state=42\n",
    ")\n",
    "print(\"X_train shape:\", X_train.shape)\n",
    "print(\"y_train shape:\", y_train.shape)"
   ]
  },
  {
   "cell_type": "code",
   "execution_count": 16,
   "metadata": {},
   "outputs": [],
   "source": [
    "X_train_t = torch.tensor(X_train, dtype=torch.float32).permute(0,2,1)  # (batch, channels, seq_len)\n",
    "X_test_t = torch.tensor(X_test, dtype=torch.float32).permute(0,2,1)\n",
    "y_train_t = torch.tensor(y_train, dtype=torch.float32)\n",
    "y_test_t = torch.tensor(y_test, dtype=torch.float32)\n",
    "\n",
    "train_ds = TensorDataset(X_train_t, y_train_t)\n",
    "test_ds = TensorDataset(X_test_t, y_test_t)\n",
    "\n",
    "train_dl = DataLoader(train_ds, batch_size=8, shuffle=True)\n",
    "test_dl = DataLoader(test_ds, batch_size=8)"
   ]
  },
  {
   "cell_type": "code",
   "execution_count": 17,
   "metadata": {},
   "outputs": [],
   "source": [
    "class InceptionBlock1D(nn.Module):\n",
    "    def __init__(self, in_channels, out_channels):\n",
    "        super().__init__()\n",
    "        self.branch1 = nn.Conv1d(in_channels, out_channels, kernel_size=1, padding=0)\n",
    "        self.branch2 = nn.Conv1d(in_channels, out_channels, kernel_size=3, padding=1)\n",
    "        self.branch3 = nn.Conv1d(in_channels, out_channels, kernel_size=5, padding=2)\n",
    "        self.branch4 = nn.MaxPool1d(kernel_size=3, stride=1, padding=1)\n",
    "        self.branch4_conv = nn.Conv1d(in_channels, out_channels, kernel_size=1, padding=0)\n",
    "        self.bn = nn.BatchNorm1d(out_channels * 4)\n",
    "        self.relu = nn.ReLU()\n",
    "    def forward(self, x):\n",
    "        b1 = self.branch1(x)\n",
    "        b2 = self.branch2(x)\n",
    "        b3 = self.branch3(x)\n",
    "        b4 = self.branch4_conv(self.branch4(x))\n",
    "        out = torch.cat([b1, b2, b3, b4], dim=1)\n",
    "        out = self.bn(out)\n",
    "        return self.relu(out)\n",
    "\n",
    "class InceptionTime1D(nn.Module):\n",
    "    def __init__(self, in_channels, n_classes):\n",
    "        super().__init__()\n",
    "        self.incept1 = InceptionBlock1D(in_channels, 16)\n",
    "        self.incept2 = InceptionBlock1D(16*4, 32)\n",
    "        self.global_pool = nn.AdaptiveAvgPool1d(1)\n",
    "        self.fc = nn.Linear(32*4, n_classes)\n",
    "    def forward(self, x):\n",
    "        x = self.incept1(x)\n",
    "        x = self.incept2(x)\n",
    "        x = self.global_pool(x).squeeze(-1)\n",
    "        return torch.sigmoid(self.fc(x))  # Çoklu etiket için sigmoid"
   ]
  },
  {
   "cell_type": "code",
   "execution_count": 18,
   "metadata": {},
   "outputs": [
    {
     "name": "stdout",
     "output_type": "stream",
     "text": [
      "Epoch 1/10, Loss: 0.0803\n",
      "Epoch 2/10, Loss: 0.1027\n",
      "Epoch 3/10, Loss: 0.2167\n",
      "Epoch 4/10, Loss: 0.0318\n",
      "Epoch 5/10, Loss: 0.0354\n",
      "Epoch 6/10, Loss: 0.1228\n",
      "Epoch 7/10, Loss: 0.1240\n",
      "Epoch 8/10, Loss: 0.1626\n",
      "Epoch 9/10, Loss: 0.0681\n",
      "Epoch 10/10, Loss: 0.0719\n"
     ]
    }
   ],
   "source": [
    "device = torch.device('cuda' if torch.cuda.is_available() else 'cpu')\n",
    "model = InceptionTime1D(in_channels=12, n_classes=y.shape[1]).to(device)\n",
    "optimizer = torch.optim.Adam(model.parameters(), lr=1e-3)\n",
    "criterion = nn.BCELoss()\n",
    "\n",
    "n_epochs = 10\n",
    "for epoch in range(n_epochs):\n",
    "    model.train()\n",
    "    for xb, yb in train_dl:\n",
    "        xb, yb = xb.to(device), yb.to(device)\n",
    "        optimizer.zero_grad()\n",
    "        preds = model(xb)\n",
    "        loss = criterion(preds, yb)\n",
    "        loss.backward()\n",
    "        optimizer.step()\n",
    "    print(f\"Epoch {epoch+1}/{n_epochs}, Loss: {loss.item():.4f}\")"
   ]
  },
  {
   "cell_type": "code",
   "execution_count": 19,
   "metadata": {},
   "outputs": [
    {
     "name": "stdout",
     "output_type": "stream",
     "text": [
      "              precision    recall  f1-score   support\n",
      "\n",
      "        1AVB       0.00      0.00      0.00         8\n",
      "        3AVB       0.00      0.00      0.00         0\n",
      "       ABQRS       0.00      0.00      0.00         3\n",
      "        AFIB       0.00      0.00      0.00        14\n",
      "        AFLT       0.00      0.00      0.00         1\n",
      "        ALMI       0.00      0.00      0.00         1\n",
      "         AMI       0.00      0.00      0.00         3\n",
      "       ANEUR       0.00      0.00      0.00         0\n",
      "        ASMI       0.00      0.00      0.00        20\n",
      "        BIGU       0.00      0.00      0.00         0\n",
      "       CLBBB       1.00      0.67      0.80         3\n",
      "       CRBBB       0.00      0.00      0.00         5\n",
      "         DIG       0.00      0.00      0.00         5\n",
      "          EL       0.00      0.00      0.00         3\n",
      "       HVOLT       0.00      0.00      0.00         2\n",
      "       ILBBB       0.00      0.00      0.00         1\n",
      "        ILMI       0.00      0.00      0.00         3\n",
      "         IMI       0.00      0.00      0.00        16\n",
      "       INJAL       0.00      0.00      0.00         0\n",
      "       INJAS       0.00      0.00      0.00         1\n",
      "       INJIL       0.00      0.00      0.00         0\n",
      "       INJLA       0.00      0.00      0.00         0\n",
      "        INVT       0.00      0.00      0.00         7\n",
      "       IPLMI       0.00      0.00      0.00         0\n",
      "        IPMI       0.00      0.00      0.00         1\n",
      "       IRBBB       0.00      0.00      0.00         9\n",
      "       ISCAL       0.00      0.00      0.00         1\n",
      "       ISCAN       0.00      0.00      0.00         1\n",
      "       ISCAS       0.00      0.00      0.00         0\n",
      "       ISCIL       0.00      0.00      0.00         0\n",
      "       ISCIN       0.00      0.00      0.00         3\n",
      "       ISCLA       0.00      0.00      0.00         0\n",
      "        ISC_       0.50      0.07      0.12        15\n",
      "        IVCD       0.00      0.00      0.00         4\n",
      "        LAFB       0.00      0.00      0.00        14\n",
      "     LAO/LAE       0.00      0.00      0.00         2\n",
      "         LMI       0.00      0.00      0.00         1\n",
      "       LNGQT       0.00      0.00      0.00         2\n",
      "        LOWT       0.00      0.00      0.00         3\n",
      "        LPFB       0.00      0.00      0.00         4\n",
      "         LPR       0.00      0.00      0.00         4\n",
      "         LVH       0.50      0.06      0.10        18\n",
      "       LVOLT       0.00      0.00      0.00         0\n",
      "         NDT       0.00      0.00      0.00        14\n",
      "        NORM       0.75      0.77      0.76       107\n",
      "        NST_       0.00      0.00      0.00        13\n",
      "         NT_       0.00      0.00      0.00         8\n",
      "         PAC       0.00      0.00      0.00         6\n",
      "        PACE       0.00      0.00      0.00         2\n",
      "         PVC       0.00      0.00      0.00        14\n",
      "       QWAVE       0.00      0.00      0.00         7\n",
      "     RAO/RAE       0.00      0.00      0.00         2\n",
      "         RVH       0.00      0.00      0.00         1\n",
      "       SARRH       0.00      0.00      0.00         7\n",
      "       SBRAD       0.00      0.00      0.00         2\n",
      "       SEHYP       0.00      0.00      0.00         0\n",
      "          SR       0.83      0.98      0.90       164\n",
      "       STACH       0.00      0.00      0.00         2\n",
      "        STD_       0.00      0.00      0.00        19\n",
      "       SVTAC       0.00      0.00      0.00         1\n",
      "        TAB_       0.00      0.00      0.00         0\n",
      "       TRIGU       0.00      0.00      0.00         0\n",
      "       VCLVH       0.00      0.00      0.00         6\n",
      "\n",
      "   micro avg       0.80      0.45      0.57       553\n",
      "   macro avg       0.06      0.04      0.04       553\n",
      "weighted avg       0.43      0.45      0.42       553\n",
      " samples avg       0.79      0.55      0.61       553\n",
      "\n"
     ]
    },
    {
     "name": "stderr",
     "output_type": "stream",
     "text": [
      "c:\\Users\\pasa-\\AppData\\Local\\Programs\\Python\\Python313\\Lib\\site-packages\\sklearn\\metrics\\_classification.py:1565: UndefinedMetricWarning: Precision is ill-defined and being set to 0.0 in labels with no predicted samples. Use `zero_division` parameter to control this behavior.\n",
      "  _warn_prf(average, modifier, f\"{metric.capitalize()} is\", len(result))\n",
      "c:\\Users\\pasa-\\AppData\\Local\\Programs\\Python\\Python313\\Lib\\site-packages\\sklearn\\metrics\\_classification.py:1565: UndefinedMetricWarning: Recall is ill-defined and being set to 0.0 in labels with no true samples. Use `zero_division` parameter to control this behavior.\n",
      "  _warn_prf(average, modifier, f\"{metric.capitalize()} is\", len(result))\n",
      "c:\\Users\\pasa-\\AppData\\Local\\Programs\\Python\\Python313\\Lib\\site-packages\\sklearn\\metrics\\_classification.py:1565: UndefinedMetricWarning: F-score is ill-defined and being set to 0.0 in labels with no true nor predicted samples. Use `zero_division` parameter to control this behavior.\n",
      "  _warn_prf(average, modifier, f\"{metric.capitalize()} is\", len(result))\n",
      "c:\\Users\\pasa-\\AppData\\Local\\Programs\\Python\\Python313\\Lib\\site-packages\\sklearn\\metrics\\_classification.py:1565: UndefinedMetricWarning: Precision is ill-defined and being set to 0.0 in samples with no predicted labels. Use `zero_division` parameter to control this behavior.\n",
      "  _warn_prf(average, modifier, f\"{metric.capitalize()} is\", len(result))\n"
     ]
    }
   ],
   "source": [
    "model.eval()\n",
    "all_preds = []\n",
    "all_targets = []\n",
    "with torch.no_grad():\n",
    "    for xb, yb in test_dl:\n",
    "        xb = xb.to(device)\n",
    "        preds = model(xb).cpu().numpy()\n",
    "        all_preds.append(preds)\n",
    "        all_targets.append(yb.numpy())\n",
    "all_preds = np.vstack(all_preds)\n",
    "all_targets = np.vstack(all_targets)\n",
    "\n",
    "# Her hastalık için threshold 0.5 ile tahmin\n",
    "y_pred_bin = (all_preds > 0.5).astype(int)\n",
    "print(classification_report(all_targets, y_pred_bin, target_names=mlb.classes_))"
   ]
  },
  {
   "cell_type": "code",
   "execution_count": 20,
   "metadata": {},
   "outputs": [
    {
     "name": "stdout",
     "output_type": "stream",
     "text": [
      "1AVB: TP=0, FN=8, FP=0\n",
      "3AVB: TP=0, FN=0, FP=0\n",
      "ABQRS: TP=0, FN=3, FP=0\n",
      "AFIB: TP=0, FN=14, FP=0\n",
      "AFLT: TP=0, FN=1, FP=0\n",
      "ALMI: TP=0, FN=1, FP=0\n",
      "AMI: TP=0, FN=3, FP=0\n",
      "ANEUR: TP=0, FN=0, FP=0\n",
      "ASMI: TP=0, FN=20, FP=0\n",
      "BIGU: TP=0, FN=0, FP=0\n",
      "CLBBB: TP=2, FN=1, FP=0\n",
      "CRBBB: TP=0, FN=5, FP=0\n",
      "DIG: TP=0, FN=5, FP=0\n",
      "EL: TP=0, FN=3, FP=0\n",
      "HVOLT: TP=0, FN=2, FP=0\n",
      "ILBBB: TP=0, FN=1, FP=0\n",
      "ILMI: TP=0, FN=3, FP=0\n",
      "IMI: TP=0, FN=16, FP=0\n",
      "INJAL: TP=0, FN=0, FP=0\n",
      "INJAS: TP=0, FN=1, FP=0\n",
      "INJIL: TP=0, FN=0, FP=0\n",
      "INJLA: TP=0, FN=0, FP=0\n",
      "INVT: TP=0, FN=7, FP=0\n",
      "IPLMI: TP=0, FN=0, FP=0\n",
      "IPMI: TP=0, FN=1, FP=0\n",
      "IRBBB: TP=0, FN=9, FP=0\n",
      "ISCAL: TP=0, FN=1, FP=0\n",
      "ISCAN: TP=0, FN=1, FP=0\n",
      "ISCAS: TP=0, FN=0, FP=0\n",
      "ISCIL: TP=0, FN=0, FP=0\n",
      "ISCIN: TP=0, FN=3, FP=0\n",
      "ISCLA: TP=0, FN=0, FP=0\n",
      "ISC_: TP=1, FN=14, FP=1\n",
      "IVCD: TP=0, FN=4, FP=0\n",
      "LAFB: TP=0, FN=14, FP=0\n",
      "LAO/LAE: TP=0, FN=2, FP=0\n",
      "LMI: TP=0, FN=1, FP=0\n",
      "LNGQT: TP=0, FN=2, FP=0\n",
      "LOWT: TP=0, FN=3, FP=0\n",
      "LPFB: TP=0, FN=4, FP=0\n",
      "LPR: TP=0, FN=4, FP=0\n",
      "LVH: TP=1, FN=17, FP=1\n",
      "LVOLT: TP=0, FN=0, FP=0\n",
      "NDT: TP=0, FN=14, FP=0\n",
      "NORM: TP=82, FN=25, FP=27\n",
      "NST_: TP=0, FN=13, FP=0\n",
      "NT_: TP=0, FN=8, FP=0\n",
      "PAC: TP=0, FN=6, FP=0\n",
      "PACE: TP=0, FN=2, FP=0\n",
      "PVC: TP=0, FN=14, FP=0\n",
      "QWAVE: TP=0, FN=7, FP=0\n",
      "RAO/RAE: TP=0, FN=2, FP=0\n",
      "RVH: TP=0, FN=1, FP=0\n",
      "SARRH: TP=0, FN=7, FP=0\n",
      "SBRAD: TP=0, FN=2, FP=0\n",
      "SEHYP: TP=0, FN=0, FP=0\n",
      "SR: TP=161, FN=3, FP=33\n",
      "STACH: TP=0, FN=2, FP=0\n",
      "STD_: TP=0, FN=19, FP=0\n",
      "SVTAC: TP=0, FN=1, FP=0\n",
      "TAB_: TP=0, FN=0, FP=0\n",
      "TRIGU: TP=0, FN=0, FP=0\n",
      "VCLVH: TP=0, FN=6, FP=0\n"
     ]
    }
   ],
   "source": [
    "for idx, disease in enumerate(mlb.classes_):\n",
    "    tp = np.sum((all_targets[:,idx]==1) & (y_pred_bin[:,idx]==1))\n",
    "    fn = np.sum((all_targets[:,idx]==1) & (y_pred_bin[:,idx]==0))\n",
    "    fp = np.sum((all_targets[:,idx]==0) & (y_pred_bin[:,idx]==1))\n",
    "    print(f\"{disease}: TP={tp}, FN={fn}, FP={fp}\")\n"
   ]
  }
 ],
 "metadata": {
  "kernelspec": {
   "display_name": "Python 3",
   "language": "python",
   "name": "python3"
  },
  "language_info": {
   "codemirror_mode": {
    "name": "ipython",
    "version": 3
   },
   "file_extension": ".py",
   "mimetype": "text/x-python",
   "name": "python",
   "nbconvert_exporter": "python",
   "pygments_lexer": "ipython3",
   "version": "3.13.3"
  }
 },
 "nbformat": 4,
 "nbformat_minor": 2
}
