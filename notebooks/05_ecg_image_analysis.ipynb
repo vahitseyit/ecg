{
 "cells": [
  {
   "cell_type": "code",
   "execution_count": 1,
   "metadata": {},
   "outputs": [
    {
     "name": "stdout",
     "output_type": "stream",
     "text": [
      "     code  count group                                        description\n",
      "2      SR  16782   NaN                                       sinus rhythm\n",
      "0    NORM   9528  NORM                                         normal ECG\n",
      "5   ABQRS   3327   NaN                                       abnormal QRS\n",
      "4     IMI   2685    MI                     inferior myocardial infarction\n",
      "21   ASMI   2363    MI                 anteroseptal myocardial infarction\n",
      "12    LVH   2137   HYP                       left ventricular hypertrophy\n",
      "9     NDT   1829  STTC                     non-diagnostic T abnormalities\n",
      "15   LAFB   1626    CD                     left anterior fascicular block\n",
      "8    AFIB   1514   NaN                                atrial fibrillation\n",
      "26   ISC_   1275  STTC                              non-specific ischemic\n",
      "32    PVC   1146   NaN                      ventricular premature complex\n",
      "16  IRBBB   1118    CD               incomplete right bundle branch block\n",
      "42   STD_   1009   NaN                         non-specific ST depression\n",
      "48  VCLVH    875   NaN  voltage criteria (QRS) for left ventricular hy...\n",
      "25  STACH    826   NaN                                  sinus tachycardia\n",
      "24   1AVB    797    CD                              first degree AV block\n",
      "19   IVCD    789    CD  non-specific intraventricular conduction distu...\n",
      "6   SARRH    772   NaN                                   sinus arrhythmia\n",
      "10   NST_    770  STTC                            non-specific ST changes\n",
      "23  ISCAL    660  STTC                    ischemic in anterolateral leads\n",
      "\n",
      "Tüm üst gruplar ve kod sayıları:\n",
      "group\n",
      "CD      11\n",
      "HYP      5\n",
      "MI      14\n",
      "NORM     1\n",
      "STTC    13\n",
      "Name: code, dtype: int64\n"
     ]
    }
   ],
   "source": [
    "import pandas as pd\n",
    "from collections import Counter\n",
    "\n",
    "# PTB-XL ana veri dosyasını oku\n",
    "df = pd.read_csv(\"d:/ecg/data/raw/ptbxl/ptbxl_database.csv\")\n",
    "\n",
    "# Tüm scp_codes anahtarlarını topla\n",
    "all_codes = []\n",
    "for codes in df['scp_codes'].apply(eval):\n",
    "    all_codes.extend(list(codes.keys()))\n",
    "\n",
    "# Her bir tanı kodunun kaç kayıtta geçtiğini say\n",
    "code_counts = Counter(all_codes)\n",
    "\n",
    "# SCP kodlarının üst grup bilgilerini oku (ek dosya gerekir)\n",
    "scp_statements = pd.read_csv(\"d:/ecg/data/raw/ptbxl/scp_statements.csv\", index_col=0)\n",
    "\n",
    "# Her kodun üst grubunu bul ve tabloya ekle\n",
    "code_info = []\n",
    "for code, count in code_counts.items():\n",
    "    if code in scp_statements.index:\n",
    "        group = scp_statements.loc[code, \"diagnostic_class\"]\n",
    "        description = scp_statements.loc[code, \"description\"]\n",
    "    else:\n",
    "        group = \"Bilinmiyor\"\n",
    "        description = \"\"\n",
    "    code_info.append({\n",
    "        \"code\": code,\n",
    "        \"count\": count,\n",
    "        \"group\": group,\n",
    "        \"description\": description\n",
    "    })\n",
    "\n",
    "# Sonuçları DataFrame olarak göster\n",
    "code_info_df = pd.DataFrame(code_info)\n",
    "code_info_df = code_info_df.sort_values(by=\"count\", ascending=False)\n",
    "\n",
    "# İlk 20 tanı kodunu ve üst gruplarını göster\n",
    "print(code_info_df.head(20))\n",
    "\n",
    "# Tüm üst grupları ve kaç farklı kod olduğunu göster\n",
    "print(\"\\nTüm üst gruplar ve kod sayıları:\")\n",
    "print(code_info_df.groupby(\"group\")[\"code\"].count())"
   ]
  }
 ],
 "metadata": {
  "kernelspec": {
   "display_name": "Python 3",
   "language": "python",
   "name": "python3"
  },
  "language_info": {
   "codemirror_mode": {
    "name": "ipython",
    "version": 3
   },
   "file_extension": ".py",
   "mimetype": "text/x-python",
   "name": "python",
   "nbconvert_exporter": "python",
   "pygments_lexer": "ipython3",
   "version": "3.13.3"
  }
 },
 "nbformat": 4,
 "nbformat_minor": 2
}
